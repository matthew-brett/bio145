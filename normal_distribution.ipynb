{
 "cells": [
  {
   "cell_type": "markdown",
   "metadata": {},
   "source": [
    "# The normal distribution"
   ]
  },
  {
   "cell_type": "markdown",
   "metadata": {},
   "source": [
    "This is a Jupyter Notebook.  It can be run as an interactive demo.\n",
    "\n",
    "The Notebook contains *cells*.  This is a *text* cell.  The next cell is a *code* cell.\n",
    "\n",
    "Press the Shift key with the Enter (or Return) key to execute a cell and move to the next cell.\n",
    "\n",
    "You can also run a cell with the Run icon at the top of the Window."
   ]
  },
  {
   "cell_type": "code",
   "execution_count": null,
   "metadata": {},
   "outputs": [],
   "source": [
    "# Execute this cell by pressing Shift and Enter at the same time.\n",
    "# Libraries for plotting, statistical distributions\n",
    "import numpy as np\n",
    "import matplotlib.pyplot as plt\n",
    "%matplotlib inline\n",
    "import scipy.stats as sps"
   ]
  },
  {
   "cell_type": "code",
   "execution_count": null,
   "metadata": {},
   "outputs": [],
   "source": [
    "# Make plots look a little bit more fancy\n",
    "plt.style.use('fivethirtyeight')"
   ]
  },
  {
   "cell_type": "markdown",
   "metadata": {},
   "source": [
    "We sample one million values from a normal distribution.  The distribution has a mean of 0 and a *standard deviation* of 1."
   ]
  },
  {
   "cell_type": "code",
   "execution_count": null,
   "metadata": {},
   "outputs": [],
   "source": [
    "number_of_values = 1000000\n",
    "values = np.random.normal(0, 1, size=number_of_values)"
   ]
  },
  {
   "cell_type": "markdown",
   "metadata": {},
   "source": [
    "The first 10 values:"
   ]
  },
  {
   "cell_type": "code",
   "execution_count": null,
   "metadata": {},
   "outputs": [],
   "source": [
    "values[:10]"
   ]
  },
  {
   "cell_type": "markdown",
   "metadata": {},
   "source": [
    "Plot all the values as a histogram with 200 bins:"
   ]
  },
  {
   "cell_type": "code",
   "execution_count": null,
   "metadata": {},
   "outputs": [],
   "source": [
    "plt.hist(values, bins=250);"
   ]
  },
  {
   "cell_type": "markdown",
   "metadata": {},
   "source": [
    "What values are between -1.96 and +1.96?"
   ]
  },
  {
   "cell_type": "code",
   "execution_count": null,
   "metadata": {},
   "outputs": [],
   "source": [
    "left_threshold = -1.96\n",
    "right_threshold = 1.96\n",
    "betweens = (values >= left_threshold) & (values <= right_threshold)"
   ]
  },
  {
   "cell_type": "code",
   "execution_count": null,
   "metadata": {},
   "outputs": [],
   "source": [
    "# Where are the between values?\n",
    "counts, bins, patches = plt.hist(values, bins=250)\n",
    "plt.hist(values[betweens], bins=bins, lw=0);"
   ]
  },
  {
   "cell_type": "code",
   "execution_count": null,
   "metadata": {},
   "outputs": [],
   "source": [
    "# Proportion of values between -1.96 and 1.96\n",
    "np.count_nonzero(betweens) / number_of_values"
   ]
  },
  {
   "cell_type": "markdown",
   "metadata": {},
   "source": [
    "This proportion - around 95% - is characteristic of the normal distribution."
   ]
  },
  {
   "cell_type": "markdown",
   "metadata": {},
   "source": [
    "What if the distribution doesn't have a mean of 0 or a standard deviation of 1?"
   ]
  },
  {
   "cell_type": "code",
   "execution_count": null,
   "metadata": {},
   "outputs": [],
   "source": [
    "values_around_10 = np.random.normal(10, 3, size=number_of_values)"
   ]
  },
  {
   "cell_type": "code",
   "execution_count": null,
   "metadata": {},
   "outputs": [],
   "source": [
    "plt.hist(values_around_10, bins=250);"
   ]
  },
  {
   "cell_type": "markdown",
   "metadata": {},
   "source": [
    "Now the center is at 10, and one standard deviation to the left of center is 10 - 3 = 7."
   ]
  },
  {
   "cell_type": "markdown",
   "metadata": {},
   "source": [
    "The rule above works by multiplying the standard deviation by 1.96, and subtracting / adding to the mean."
   ]
  },
  {
   "cell_type": "code",
   "execution_count": null,
   "metadata": {},
   "outputs": [],
   "source": [
    "left_threshold = 10 - 3 * 1.96\n",
    "right_threshold = 10 + 3 * 1.96\n",
    "betweens_around_10 = (values_around_10 >= left_threshold) & (values_around_10 <= right_threshold)"
   ]
  },
  {
   "cell_type": "code",
   "execution_count": null,
   "metadata": {},
   "outputs": [],
   "source": [
    "# Where are the between values?\n",
    "counts, bins, patches = plt.hist(values_around_10, bins=250)\n",
    "plt.hist(values_around_10[betweens_around_10], bins=bins, lw=0);"
   ]
  },
  {
   "cell_type": "code",
   "execution_count": null,
   "metadata": {},
   "outputs": [],
   "source": [
    "# Proportion of values between -1.96 and 1.96 standard deviations\n",
    "np.count_nonzero(betweens_around_10) / number_of_values"
   ]
  },
  {
   "cell_type": "markdown",
   "metadata": {},
   "source": [
    "## What's special about the normal distribution?"
   ]
  },
  {
   "cell_type": "markdown",
   "metadata": {},
   "source": [
    "Let's get some values from some not-normal distributions."
   ]
  },
  {
   "cell_type": "markdown",
   "metadata": {},
   "source": [
    "Here's a not-normal distribution, the \"chi square\" distribution:"
   ]
  },
  {
   "cell_type": "code",
   "execution_count": null,
   "metadata": {},
   "outputs": [],
   "source": [
    "distribution = np.random.chisquare(2, size=number_of_values)\n",
    "plt.hist(distribution, bins=100);"
   ]
  },
  {
   "cell_type": "code",
   "execution_count": null,
   "metadata": {},
   "outputs": [],
   "source": [
    "# The first 10 values\n",
    "distribution[:10]"
   ]
  },
  {
   "cell_type": "code",
   "execution_count": null,
   "metadata": {},
   "outputs": [],
   "source": [
    "# Let's imagine we had sampled one million values from the chi squared distribution, 50 times\n",
    "distributions = []\n",
    "for i in range(50):\n",
    "    distribution = np.random.chisquare(2, size=number_of_values)\n",
    "    distributions.append(distribution)"
   ]
  },
  {
   "cell_type": "code",
   "execution_count": null,
   "metadata": {},
   "outputs": [],
   "source": [
    "# Now let's add them up\n",
    "added = np.zeros(number_of_values)\n",
    "for distribution in distributions:\n",
    "    # Add the distribution\n",
    "    added = added + distribution"
   ]
  },
  {
   "cell_type": "markdown",
   "metadata": {},
   "source": [
    "What shape do you think I will get?"
   ]
  },
  {
   "cell_type": "code",
   "execution_count": null,
   "metadata": {},
   "outputs": [],
   "source": [
    "plt.hist(added, bins=100);"
   ]
  }
 ],
 "metadata": {
  "jupytext_format_version": "1.0",
  "jupytext_formats": "Rmd:rmarkdown",
  "kernelspec": {
   "display_name": "Python 3",
   "language": "python",
   "name": "python3"
  },
  "language_info": {
   "codemirror_mode": {
    "name": "ipython",
    "version": 3
   },
   "file_extension": ".py",
   "mimetype": "text/x-python",
   "name": "python",
   "nbconvert_exporter": "python",
   "pygments_lexer": "ipython3",
   "version": "3.6.5"
  }
 },
 "nbformat": 4,
 "nbformat_minor": 2
}
