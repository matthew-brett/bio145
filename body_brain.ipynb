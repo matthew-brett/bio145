{
 "cells": [
  {
   "cell_type": "markdown",
   "metadata": {},
   "source": [
    "# Regression, body and brain\n",
    "\n",
    "## About this page\n",
    "\n",
    "This is a Jupyter Notebook.  It can be run as an interactive demo, or you can\n",
    "read it as a web page.\n",
    "\n",
    "You don't need to understand the code on this page, the text will tell you\n",
    "what the code is doing.\n",
    "\n",
    "You can also [run this demo\n",
    "interactively](https://mybinder.org/v2/gh/matthew-brett/bio145/master?filepath=on_correlation.ipynb).\n",
    "\n",
    "## The example problem\n",
    "\n",
    "We are going to do regression of body weights and brain weights of some animals, and then look at the correlation."
   ]
  },
  {
   "cell_type": "markdown",
   "metadata": {},
   "source": [
    "## Some setup\n",
    "\n",
    "We first need to get our environment set up to run the code and plots we\n",
    "need."
   ]
  },
  {
   "cell_type": "code",
   "execution_count": 1,
   "metadata": {},
   "outputs": [],
   "source": [
    "# Code to get set up.  If you are running interactively, you can execute\n",
    "# this cell by pressing Shift and Enter at the same time.\n",
    "# Libraries for arrays and plotting\n",
    "import numpy as np\n",
    "import matplotlib.pyplot as plt\n",
    "%matplotlib inline\n",
    "# Make plots look a little bit more fancy\n",
    "plt.style.use('fivethirtyeight')\n",
    "# Import library for statistical routines\n",
    "import scipy.stats as sps\n",
    "# Print array numbers to 4 digits of precisiono\n",
    "np.set_printoptions(precision=4, suppress=True)"
   ]
  },
  {
   "cell_type": "markdown",
   "metadata": {},
   "source": [
    "## Starting with a line\n",
    "\n",
    "Here are the body weights (in kilograms) from the 8 animals:"
   ]
  },
  {
   "cell_type": "code",
   "execution_count": 2,
   "metadata": {},
   "outputs": [],
   "source": [
    "body_weight = np.array([3.3, 465, 27.7, 521, 192, 2.5, 0.3, 55.5])"
   ]
  },
  {
   "cell_type": "markdown",
   "metadata": {},
   "source": [
    "These are the corresponding brain weights (in grams):"
   ]
  },
  {
   "cell_type": "code",
   "execution_count": 3,
   "metadata": {},
   "outputs": [],
   "source": [
    "brain_weight = np.array([25.6, 423, 115, 655, 180, 12.1, 1.9, 175])"
   ]
  },
  {
   "cell_type": "markdown",
   "metadata": {},
   "source": [
    "We believe that there is some relationship between `body_weight` and `brain_weight`.\n",
    "Plotting them together we get:"
   ]
  },
  {
   "cell_type": "code",
   "execution_count": 4,
   "metadata": {},
   "outputs": [
    {
     "data": {
      "image/png": "[encoded data removed]",
      "text/plain": [
       "<Figure size 432x288 with 1 Axes>"
      ]
     },
     "metadata": {
      "needs_background": "light"
     },
     "output_type": "display_data"
    }
   ],
   "source": [
    "plt.plot(body_weight, brain_weight, '+')\n",
    "plt.xlabel('Body')\n",
    "plt.ylabel('Brain');"
   ]
  },
  {
   "cell_type": "markdown",
   "metadata": {},
   "source": [
    "It looks like there may be some sort of straight line relationship. We could\n",
    "try to find a good line to fit the data.  Here I will do some magic to work\n",
    "out a good line."
   ]
  },
  {
   "cell_type": "code",
   "execution_count": 5,
   "metadata": {},
   "outputs": [
    {
     "name": "stdout",
     "output_type": "stream",
     "text": [
      "Slope: 1.0195\n",
      "Intercept: 36.9484\n"
     ]
    }
   ],
   "source": [
    "slope, intercept, r, p, se = sps.linregress(body_weight, brain_weight)\n",
    "print(f'Slope: {slope:.4f}')\n",
    "print(f'Intercept: {intercept:.4f}')"
   ]
  },
  {
   "cell_type": "markdown",
   "metadata": {},
   "source": [
    "We also got the correlation *r* value from this calculation.  Here it is, for\n",
    "future reference.  We will come back to this later:"
   ]
  },
  {
   "cell_type": "code",
   "execution_count": 6,
   "metadata": {},
   "outputs": [
    {
     "name": "stdout",
     "output_type": "stream",
     "text": [
      "Correlation r: 0.9594\n"
     ]
    }
   ],
   "source": [
    "# Correlation \"r\" value\n",
    "print(f'Correlation r: {r:.4f}')"
   ]
  },
  {
   "cell_type": "markdown",
   "metadata": {},
   "source": [
    "This is the squared *r* value ($r^2$):"
   ]
  },
  {
   "cell_type": "code",
   "execution_count": 7,
   "metadata": {},
   "outputs": [
    {
     "data": {
      "text/plain": [
       "0.9205056376047562"
      ]
     },
     "execution_count": 7,
     "metadata": {},
     "output_type": "execute_result"
    }
   ],
   "source": [
    "r ** 2"
   ]
  },
  {
   "cell_type": "markdown",
   "metadata": {},
   "source": [
    "Here is the line drawn on the plot of the data:"
   ]
  },
  {
   "cell_type": "code",
   "execution_count": 8,
   "metadata": {},
   "outputs": [
    {
     "data": {
      "image/png": "[encoded data removed]",
      "text/plain": [
       "<Figure size 432x288 with 1 Axes>"
      ]
     },
     "metadata": {
      "needs_background": "light"
     },
     "output_type": "display_data"
    }
   ],
   "source": [
    "# Plot data with the prediction\n",
    "plt.plot(body_weight, brain_weight, 'k+')\n",
    "mx = max(body_weight)\n",
    "x_vals = [0, mx]\n",
    "y_vals = [intercept, intercept + slope * mx]\n",
    "plt.plot(x_vals, y_vals, 'b')\n",
    "plt.xlabel('Body')\n",
    "plt.ylabel('Brain')\n",
    "plt.title('Body vs Brain with nice line');"
   ]
  },
  {
   "cell_type": "markdown",
   "metadata": {},
   "source": [
    "## How do we chose a good line?"
   ]
  },
  {
   "cell_type": "markdown",
   "metadata": {},
   "source": [
    "The line gives a *prediction* of what `brain_weight` should be, for any value\n",
    "of `body_weight`.  If we have some value `x` for `body_weight`, then we can\n",
    "predict the value `y` of `brain_weight`, with `y = intercept + slope * x`.\n",
    "\n",
    "For example, here are the first values for `body_weight` and `brain_weight`:"
   ]
  },
  {
   "cell_type": "code",
   "execution_count": 9,
   "metadata": {},
   "outputs": [
    {
     "name": "stdout",
     "output_type": "stream",
     "text": [
      "First body_weight value 3.3\n",
      "First brain_weight value 25.6\n"
     ]
    }
   ],
   "source": [
    "print(f'First body_weight value {body_weight[0]}')\n",
    "print(f'First brain_weight value {brain_weight[0]}')"
   ]
  },
  {
   "cell_type": "markdown",
   "metadata": {},
   "source": [
    "The second value is the *actual* value of `brain_weight`.  The *predicted*\n",
    "value of `brain_weight`, for this value of `body_weight` is:"
   ]
  },
  {
   "cell_type": "code",
   "execution_count": 10,
   "metadata": {},
   "outputs": [
    {
     "data": {
      "text/plain": [
       "40.248430441197186"
      ]
     },
     "execution_count": 10,
     "metadata": {},
     "output_type": "execute_result"
    }
   ],
   "source": [
    "predicted = intercept + body_weight[0]\n",
    "predicted"
   ]
  },
  {
   "cell_type": "markdown",
   "metadata": {},
   "source": [
    "The *error* for our line, is the difference between the actual and predicted\n",
    "value."
   ]
  },
  {
   "cell_type": "code",
   "execution_count": 11,
   "metadata": {},
   "outputs": [
    {
     "data": {
      "text/plain": [
       "-14.648430441197185"
      ]
     },
     "execution_count": 11,
     "metadata": {},
     "output_type": "execute_result"
    }
   ],
   "source": [
    "actual = brain_weight[0]\n",
    "error = actual - predicted\n",
    "error"
   ]
  },
  {
   "cell_type": "markdown",
   "metadata": {},
   "source": [
    "This is the error for the first value.  We can get the errors for all the\n",
    "values in the same way."
   ]
  },
  {
   "cell_type": "markdown",
   "metadata": {},
   "source": [
    "This is the calculation of error for all 12 values.  As usual, you don't need\n",
    "to understand the code in detail:"
   ]
  },
  {
   "cell_type": "code",
   "execution_count": 12,
   "metadata": {},
   "outputs": [
    {
     "data": {
      "text/plain": [
       "array([-14.7128, -88.016 ,  49.8114,  86.892 , -52.6925, -27.3972,\n",
       "       -35.3543,  81.4693])"
      ]
     },
     "execution_count": 12,
     "metadata": {},
     "output_type": "execute_result"
    }
   ],
   "source": [
    "all_predicted = intercept + body_weight * slope\n",
    "all_errors = brain_weight - all_predicted\n",
    "all_errors"
   ]
  },
  {
   "cell_type": "markdown",
   "metadata": {},
   "source": [
    "Notice the first value for `all_errors` is the same as the value for `error`\n",
    "we saw above.\n",
    "\n",
    "The errors here are the distances between the prediction line and the points\n",
    "on the plot.  Here I show the errors as red lines. Don't worry about the code\n",
    "below, it's not important to the idea."
   ]
  },
  {
   "cell_type": "code",
   "execution_count": 13,
   "metadata": {},
   "outputs": [
    {
     "data": {
      "image/png": "[encoded data removed]",
      "text/plain": [
       "<Figure size 432x288 with 1 Axes>"
      ]
     },
     "metadata": {
      "needs_background": "light"
     },
     "output_type": "display_data"
    }
   ],
   "source": [
    "# Plot data with the prediction and errors\n",
    "plt.plot(body_weight, brain_weight, 'k+', ms=15)\n",
    "mx = max(body_weight)\n",
    "x_vals = [0, mx]\n",
    "y_vals = [intercept, intercept + slope * mx]\n",
    "plt.plot(x_vals, y_vals, 'b')\n",
    "# Draw the error lines\n",
    "for i in range(len(body_weight)):\n",
    "    x_vals = [body_weight[i], body_weight[i]]\n",
    "    y_vals = [all_predicted[i], brain_weight[i]]\n",
    "    plt.plot(x_vals, y_vals, 'r')\n",
    "plt.xlabel('Body weight')\n",
    "plt.ylabel('Brain weight')\n",
    "plt.title('body_weight vs brain_weight, and errors');"
   ]
  },
  {
   "cell_type": "markdown",
   "metadata": {},
   "source": [
    "A good line will make the errors as small as possible.  Therefore, a good line\n",
    "will make the lengths of the red lines as short as possible.\n",
    "\n",
    "We need to generate a single number, from the errors, that gives an overall\n",
    "measure of the size of the errors.\n",
    "\n",
    "We cannot just add up the errors, because the negative and positive errors\n",
    "will cancel out.  Even if the errors are a mixture of large positive and large\n",
    "negative, the sum could be very small.\n",
    "\n",
    "The usual thing to do, is to square all the errors, to make sure they are all\n",
    "positive.  Then we add all the squared errors.  This gives the *sum of squared\n",
    "error* or SSE."
   ]
  },
  {
   "cell_type": "code",
   "execution_count": 14,
   "metadata": {},
   "outputs": [
    {
     "data": {
      "text/plain": [
       "array([-14.7128, -88.016 ,  49.8114,  86.892 , -52.6925, -27.3972,\n",
       "       -35.3543,  81.4693])"
      ]
     },
     "execution_count": 14,
     "metadata": {},
     "output_type": "execute_result"
    }
   ],
   "source": [
    "# A reminder of the errors we calculated above\n",
    "all_errors"
   ]
  },
  {
   "cell_type": "code",
   "execution_count": 15,
   "metadata": {},
   "outputs": [
    {
     "data": {
      "text/plain": [
       "array([ 216.4659, 7746.8173, 2481.1771, 7550.217 , 2776.4955,  750.6055,\n",
       "       1249.9251, 6637.2486])"
      ]
     },
     "execution_count": 15,
     "metadata": {},
     "output_type": "execute_result"
    }
   ],
   "source": [
    "# Square all the errors\n",
    "squared_errors = all_errors ** 2\n",
    "squared_errors"
   ]
  },
  {
   "cell_type": "code",
   "execution_count": 16,
   "metadata": {},
   "outputs": [
    {
     "data": {
      "text/plain": [
       "29408.952087218484"
      ]
     },
     "execution_count": 16,
     "metadata": {},
     "output_type": "execute_result"
    }
   ],
   "source": [
    "# Calculate the sum of the squared errors\n",
    "SSE = sum(squared_errors)\n",
    "SSE"
   ]
  },
  {
   "cell_type": "markdown",
   "metadata": {},
   "source": [
    "The line is a good one when SSE is small.  In fact, the usual \"best fit\" line\n",
    "chosen by packages such as Excel, is the line that gives the lowest SSE value,\n",
    "of all possible lines.\n",
    "\n",
    "It is the line that minimizes the squared error, often called the *least squares* line.\n",
    "\n",
    "This is the line that I found by sort-of magic, above.  If you like, try other\n",
    "slopes and intercepts.  You will find that they always have a higher SSE value\n",
    "than the slope and intercept I have used here."
   ]
  },
  {
   "cell_type": "markdown",
   "metadata": {},
   "source": [
    "## Regression and correlation\n",
    "\n",
    "Above, you have seen regression, using the *least squares* line.\n",
    "\n",
    "Correlation is a version of the same thing, but where we have *standardized*\n",
    "the data.\n",
    "\n",
    "We standardize data by subtracting the mean, and dividing by the standard\n",
    "deviation.\n",
    "\n",
    "We do this, to put the x and y values onto the same scale.\n",
    "\n",
    "For example, here is a histogram of the `body_weight` values, to give you an idea\n",
    "of their position and spread."
   ]
  },
  {
   "cell_type": "code",
   "execution_count": 17,
   "metadata": {},
   "outputs": [
    {
     "data": {
      "image/png": "[encoded data removed]",
      "text/plain": [
       "<Figure size 432x288 with 1 Axes>"
      ]
     },
     "metadata": {
      "needs_background": "light"
     },
     "output_type": "display_data"
    }
   ],
   "source": [
    "plt.hist(body_weight)\n",
    "plt.title(\"Body weight values\");"
   ]
  },
  {
   "cell_type": "markdown",
   "metadata": {},
   "source": [
    "In correlation, we are interested to know whether the *variation* in the (e.g)\n",
    "`body_weight` values, predicts the variation in the (e.g)  `brain_weight` values.\n",
    "Variation, is variation around the mean.  To show variation, we subtract the\n",
    "mean.  We refer to the values, with the mean subtracted, as *mean centered*."
   ]
  },
  {
   "cell_type": "code",
   "execution_count": 18,
   "metadata": {},
   "outputs": [
    {
     "data": {
      "image/png": "[encoded data removed]",
      "text/plain": [
       "<Figure size 432x288 with 1 Axes>"
      ]
     },
     "metadata": {
      "needs_background": "light"
     },
     "output_type": "display_data"
    }
   ],
   "source": [
    "centered_x = body_weight - body_weight.mean()\n",
    "plt.hist(centered_x)\n",
    "plt.title('Mean-centered body weight values');"
   ]
  },
  {
   "cell_type": "markdown",
   "metadata": {},
   "source": [
    "Finally, the values for the spread either side of zero depends on the units of\n",
    "the measurement.   We measure the spread, with standard deviation:"
   ]
  },
  {
   "cell_type": "code",
   "execution_count": 19,
   "metadata": {},
   "outputs": [
    {
     "data": {
      "text/plain": [
       "202.37298755948134"
      ]
     },
     "execution_count": 19,
     "metadata": {},
     "output_type": "execute_result"
    }
   ],
   "source": [
    "std_x = np.std(centered_x)\n",
    "std_x"
   ]
  },
  {
   "cell_type": "markdown",
   "metadata": {},
   "source": [
    "We would like to re-express our data to have a standard spread, that is\n",
    "comparable for the `x` / `body_weight` values and the `y` / `brain_weight` values.\n",
    "For example, we might like to ensure the data have a standard deviation of 1.\n",
    "To do this, we divide the centered values by the standard deviation."
   ]
  },
  {
   "cell_type": "code",
   "execution_count": 20,
   "metadata": {},
   "outputs": [
    {
     "data": {
      "image/png": "[encoded data removed]",
      "text/plain": [
       "<Figure size 432x288 with 1 Axes>"
      ]
     },
     "metadata": {
      "needs_background": "light"
     },
     "output_type": "display_data"
    }
   ],
   "source": [
    "standard_x = centered_x / std_x\n",
    "plt.hist(standard_x)\n",
    "plt.title('Standardized body weight values');"
   ]
  },
  {
   "cell_type": "markdown",
   "metadata": {},
   "source": [
    "You will see below, that the mean of these values is now 0, and the standard deviation is 1."
   ]
  },
  {
   "cell_type": "code",
   "execution_count": 21,
   "metadata": {},
   "outputs": [
    {
     "name": "stdout",
     "output_type": "stream",
     "text": [
      "Mean of standard x: 0.0000\n",
      "Standard deviation: 1.0000\n"
     ]
    }
   ],
   "source": [
    "print(f'Mean of standard x: {np.mean(standard_x):.4f}')\n",
    "print(f'Standard deviation: {np.std(standard_x):.4f}')"
   ]
  },
  {
   "cell_type": "markdown",
   "metadata": {},
   "source": [
    "Our `body_weight` values are now *standardized*.\n",
    "\n",
    "We do the same for our `y` / `brain_weight` values:"
   ]
  },
  {
   "cell_type": "code",
   "execution_count": 22,
   "metadata": {},
   "outputs": [
    {
     "name": "stdout",
     "output_type": "stream",
     "text": [
      "Mean of standard y: 0.0000\n",
      "Standard deviation: 1.0000\n"
     ]
    }
   ],
   "source": [
    "# Standarize the y / brain_weight values\n",
    "centered_y = brain_weight - brain_weight.mean()\n",
    "standard_y = centered_y / np.std(centered_y)\n",
    "print(f'Mean of standard y: {np.mean(standard_y):.4f}')\n",
    "print(f'Standard deviation: {np.std(standard_y):.4f}')"
   ]
  },
  {
   "cell_type": "markdown",
   "metadata": {},
   "source": [
    "The correlation value *r* is just the slope of the regression line relating\n",
    "our standardized `x` / `body_weight` and standardized `y` / `brain_weight`:"
   ]
  },
  {
   "cell_type": "code",
   "execution_count": 23,
   "metadata": {},
   "outputs": [
    {
     "name": "stdout",
     "output_type": "stream",
     "text": [
      "Standardized slope (=correlation r): 0.9594\n",
      "Standardized intercept: 0.0000\n"
     ]
    }
   ],
   "source": [
    "std_slope, std_intercept, std_r, p, se = sps.linregress(standard_x, standard_y)\n",
    "print(f'Standardized slope (=correlation r): {std_slope:.4f}')\n",
    "print(f'Standardized intercept: {std_intercept:.4f}')"
   ]
  },
  {
   "cell_type": "markdown",
   "metadata": {},
   "source": [
    "It turns out that, when we standardize the x and y values, as we did here, the\n",
    "*intercept* for the least-squares line must be zero, for mathematical reasons\n",
    "that are not important for our current purpose.\n",
    "\n",
    "Notice that the slope above is the same as the `r` value for the original\n",
    "regression line:"
   ]
  },
  {
   "cell_type": "code",
   "execution_count": 24,
   "metadata": {},
   "outputs": [
    {
     "name": "stdout",
     "output_type": "stream",
     "text": [
      "Standardized slope: 0.9594\n",
      "Original r for regression: 0.9594\n"
     ]
    }
   ],
   "source": [
    "print(f'Standardized slope: {std_slope:.4f}')\n",
    "print(f'Original r for regression: {r:.4f}')"
   ]
  },
  {
   "cell_type": "markdown",
   "metadata": {},
   "source": [
    "Here is the plot of standardized `body_weight` against standardized `brain_weight`,\n",
    "with the least-squares line:"
   ]
  },
  {
   "cell_type": "code",
   "execution_count": 25,
   "metadata": {},
   "outputs": [
    {
     "data": {
      "image/png": "[encoded data removed]",
      "text/plain": [
       "<Figure size 432x288 with 1 Axes>"
      ]
     },
     "metadata": {
      "needs_background": "light"
     },
     "output_type": "display_data"
    }
   ],
   "source": [
    "# Plot standard data with the prediction\n",
    "plt.plot(standard_x, standard_y, '+')\n",
    "mx = max(standard_x)\n",
    "mn = min(standard_x)\n",
    "x_vals = [mn, mx]\n",
    "y_vals = [std_intercept + std_slope * mn, std_intercept + std_slope * mx]\n",
    "plt.plot(x_vals, y_vals, 'b')\n",
    "plt.title('Standardized body weight against standardized brain weight');"
   ]
  },
  {
   "cell_type": "markdown",
   "metadata": {},
   "source": [
    "Notice that the plot has the point (0, 0) at its center, and that the line\n",
    "goes through the (0, 0) point.  The slope of the line, is the correlation\n",
    "value *r*.\n",
    "\n",
    "It turns out that, if we do this standardization procedure, the slope of the\n",
    "line can only vary between 1 (where the standardized `x` values are the same as\n",
    "the standardized `y` values) and -1 (where the standardized `x` values are the\n",
    "exact negative of the standardized `y` values)."
   ]
  }
 ],
 "metadata": {
  "jupytext_formats": "Rmd:rmarkdown,ipynb",
  "kernelspec": {
   "display_name": "Python 3",
   "language": "python",
   "name": "python3"
  },
  "language_info": {
   "codemirror_mode": {
    "name": "ipython",
    "version": 3
   },
   "file_extension": ".py",
   "mimetype": "text/x-python",
   "name": "python",
   "nbconvert_exporter": "python",
   "pygments_lexer": "ipython3",
   "version": "3.6.4"
  }
 },
 "nbformat": 4,
 "nbformat_minor": 2
}
