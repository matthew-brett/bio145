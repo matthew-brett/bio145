{
 "cells": [
  {
   "cell_type": "markdown",
   "metadata": {},
   "source": [
    "# Standard deviation and standard error\n",
    "\n",
    "## About this page\n",
    "\n",
    "This is a Jupyter Notebook.  It can be run as an interactive demo, or you can\n",
    "read it as a web page.\n",
    "\n",
    "You don't need to understand the code on this page, the text will tell you\n",
    "what the code is doing.\n",
    "\n",
    "To run this demo interactively on the web, click the button below:\n",
    "\n",
    "[![Binder](https://mybinder.org/badge.svg)](https://mybinder.org/v2/gh/matthew-brett/bio145/master?filepath=standard_error_of_mean.ipynb)"
   ]
  },
  {
   "cell_type": "markdown",
   "metadata": {},
   "source": [
    "## Code to start"
   ]
  },
  {
   "cell_type": "code",
   "execution_count": 1,
   "metadata": {},
   "outputs": [],
   "source": [
    "# Execute this cell by pressing Shift and Enter at the same time.\n",
    "# Libraries for arrays, plotting\n",
    "import numpy as np\n",
    "import matplotlib.pyplot as plt\n",
    "%matplotlib inline\n",
    "# Make plots look a little bit more fancy\n",
    "plt.style.use('fivethirtyeight')"
   ]
  },
  {
   "cell_type": "markdown",
   "metadata": {},
   "source": [
    "## Back to the standard error of the mean\n",
    "\n",
    "Let's say we have a pond with a million frogs, having weights around 10g."
   ]
  },
  {
   "cell_type": "markdown",
   "metadata": {},
   "source": [
    "We could imagine that, if we could measure the weights of all one million\n",
    "frogs, they might look like this:"
   ]
  },
  {
   "cell_type": "code",
   "execution_count": 2,
   "metadata": {},
   "outputs": [],
   "source": [
    "number_of_frogs = 1000000\n",
    "population = np.random.normal(10, 2, size=number_of_frogs)"
   ]
  },
  {
   "cell_type": "code",
   "execution_count": 3,
   "metadata": {},
   "outputs": [
    {
     "data": {
      "image/png": "[encoded data removed]",
      "text/plain": [
       "<Figure size 432x288 with 1 Axes>"
      ]
     },
     "metadata": {},
     "output_type": "display_data"
    }
   ],
   "source": [
    "plt.hist(population, bins=100);\n",
    "plt.title('Weights of all frogs in the population');"
   ]
  },
  {
   "cell_type": "markdown",
   "metadata": {},
   "source": [
    "The population mean is the mean of all these one million values:"
   ]
  },
  {
   "cell_type": "code",
   "execution_count": 4,
   "metadata": {},
   "outputs": [
    {
     "data": {
      "text/plain": [
       "10.001247410482419"
      ]
     },
     "execution_count": 4,
     "metadata": {},
     "output_type": "execute_result"
    }
   ],
   "source": [
    "population_mean = np.mean(population)\n",
    "population_mean"
   ]
  },
  {
   "cell_type": "markdown",
   "metadata": {},
   "source": [
    "The population standard deviation is the standard deviation of one million\n",
    "values:"
   ]
  },
  {
   "cell_type": "code",
   "execution_count": 5,
   "metadata": {},
   "outputs": [
    {
     "data": {
      "text/plain": [
       "2.0014433934067464"
      ]
     },
     "execution_count": 5,
     "metadata": {},
     "output_type": "execute_result"
    }
   ],
   "source": [
    "population_std = np.std(population)\n",
    "population_std"
   ]
  },
  {
   "cell_type": "markdown",
   "metadata": {},
   "source": [
    "Now we take a random sample of 500 values from this population:"
   ]
  },
  {
   "cell_type": "code",
   "execution_count": 6,
   "metadata": {},
   "outputs": [],
   "source": [
    "# Take a random sample size 500 from the population\n",
    "sample = np.random.choice(population, size=500, replace=False)"
   ]
  },
  {
   "cell_type": "markdown",
   "metadata": {},
   "source": [
    "Here's a histogram of this *sample* of 500 values:"
   ]
  },
  {
   "cell_type": "code",
   "execution_count": 7,
   "metadata": {},
   "outputs": [
    {
     "data": {
      "image/png": "[encoded data removed]",
      "text/plain": [
       "<Figure size 432x288 with 1 Axes>"
      ]
     },
     "metadata": {},
     "output_type": "display_data"
    }
   ],
   "source": [
    "plt.hist(sample, bins=25)\n",
    "plt.title('First sample of 500 values');"
   ]
  },
  {
   "cell_type": "markdown",
   "metadata": {},
   "source": [
    "The *sample mean* is the mean of values *in the sample*:"
   ]
  },
  {
   "cell_type": "code",
   "execution_count": 8,
   "metadata": {},
   "outputs": [
    {
     "data": {
      "text/plain": [
       "10.015122716065248"
      ]
     },
     "execution_count": 8,
     "metadata": {},
     "output_type": "execute_result"
    }
   ],
   "source": [
    "np.mean(sample)"
   ]
  },
  {
   "cell_type": "markdown",
   "metadata": {},
   "source": [
    "Notice that the sample mean is not exactly the same as the population mean.\n",
    "When we take our sample, by chance we may have picked up more light frogs than\n",
    "average, or more heavy frogs."
   ]
  },
  {
   "cell_type": "markdown",
   "metadata": {},
   "source": [
    "The *sample standard deviation* is the standard deviation of the sample values from the sample mean:"
   ]
  },
  {
   "cell_type": "code",
   "execution_count": 9,
   "metadata": {},
   "outputs": [
    {
     "data": {
      "text/plain": [
       "1.9391607058685525"
      ]
     },
     "execution_count": 9,
     "metadata": {},
     "output_type": "execute_result"
    }
   ],
   "source": [
    "np.std(sample)"
   ]
  },
  {
   "cell_type": "markdown",
   "metadata": {},
   "source": [
    "If we take another sample, it won't have the same mean as the population, for\n",
    "the reasons above.  Also, it won't have the same mean as the first sample, for\n",
    "the same reason:"
   ]
  },
  {
   "cell_type": "code",
   "execution_count": 10,
   "metadata": {},
   "outputs": [],
   "source": [
    "sample_2 = np.random.choice(population, size=500, replace=False)"
   ]
  },
  {
   "cell_type": "code",
   "execution_count": 11,
   "metadata": {},
   "outputs": [
    {
     "data": {
      "text/plain": [
       "10.060411112642425"
      ]
     },
     "execution_count": 11,
     "metadata": {},
     "output_type": "execute_result"
    }
   ],
   "source": [
    "# Mean of the second sample\n",
    "np.mean(sample_2)"
   ]
  },
  {
   "cell_type": "markdown",
   "metadata": {},
   "source": [
    "If we draw one frog at random from the pond, then the weight of that frog will\n",
    "be somewhat random, with weights around 10 being more common (the population\n",
    "mean), and weights around 8 or 12 being less common."
   ]
  },
  {
   "cell_type": "markdown",
   "metadata": {},
   "source": [
    "If we draw one sample of 500 frogs at random, the mean will also be somewhat\n",
    "random, with a mean weight of around 10 being more common (the population\n",
    "mean), and mean weights of around 9.8 or 10.2 being less common.  For example,\n",
    "here I am drawing 1000 samples from the population.  For each sample, I\n",
    "calculate the mean and store it.  After I have done that, I have 1000 sample\n",
    "means."
   ]
  },
  {
   "cell_type": "code",
   "execution_count": 12,
   "metadata": {},
   "outputs": [],
   "source": [
    "# We will collect the sample means in a list\n",
    "sample_means = []\n",
    "# Repeat the following statements 1000 times:\n",
    "for i in range(1000):\n",
    "    # Take a new random sample\n",
    "    new_sample = np.random.choice(population, size=500, replace=False)\n",
    "    # Record the mean of the sample in the list.\n",
    "    sample_means.append(np.mean(new_sample))"
   ]
  },
  {
   "cell_type": "markdown",
   "metadata": {},
   "source": [
    "Remember the mean of the sample will vary a little bit either side of 10 (the\n",
    "population mean).   So our 1000 means from our 1000 samples will form a\n",
    "*distribution*.  This is the *sampling distribution* of the mean - that is,\n",
    "the distribution of the mean when we take random samples of 500 from this\n",
    "population."
   ]
  },
  {
   "cell_type": "code",
   "execution_count": 13,
   "metadata": {},
   "outputs": [
    {
     "data": {
      "image/png": "[encoded data removed]",
      "text/plain": [
       "<Figure size 432x288 with 1 Axes>"
      ]
     },
     "metadata": {},
     "output_type": "display_data"
    }
   ],
   "source": [
    "plt.hist(sample_means)\n",
    "plt.title(\"Sampling distribution of mean\");"
   ]
  },
  {
   "cell_type": "markdown",
   "metadata": {},
   "source": [
    "The mean of these means (the mean of the sampling distribution) will be very\n",
    "near the population mean:"
   ]
  },
  {
   "cell_type": "code",
   "execution_count": 14,
   "metadata": {},
   "outputs": [
    {
     "data": {
      "text/plain": [
       "10.000290021989841"
      ]
     },
     "execution_count": 14,
     "metadata": {},
     "output_type": "execute_result"
    }
   ],
   "source": [
    "np.mean(sample_means)"
   ]
  },
  {
   "cell_type": "markdown",
   "metadata": {},
   "source": [
    "The sampling distribution has a spread either side of the mean, given by its\n",
    "standard deviation:"
   ]
  },
  {
   "cell_type": "code",
   "execution_count": 15,
   "metadata": {},
   "outputs": [
    {
     "data": {
      "text/plain": [
       "0.094543650383616937"
      ]
     },
     "execution_count": 15,
     "metadata": {},
     "output_type": "execute_result"
    }
   ],
   "source": [
    "np.std(sample_means)"
   ]
  },
  {
   "cell_type": "markdown",
   "metadata": {},
   "source": [
    "The standard deviation of the sample means, is the *standard error of the mean*."
   ]
  },
  {
   "cell_type": "markdown",
   "metadata": {},
   "source": [
    "Of course, we can't generally take thousands of samples, and measure their\n",
    "means, to get the sampling distribution of the mean, as we have here.  If we\n",
    "could, we could just measure its standard deviation, as we did above. But it\n",
    "turns out that we can use some simple mathematics to estimate the standard\n",
    "deviation of the sampling distribution, using the standard deviation of a\n",
    "single sample.  The formula turns out to be:\n",
    "\n",
    "$$\n",
    "SEM = s / \\sqrt{n}\n",
    "$$\n",
    "\n",
    "Here $s$ is the standard deviation of the sample, and $n$ is the number of observations in the sample.  We found out above, that the standard deviation of the sampling distribution was:"
   ]
  },
  {
   "cell_type": "code",
   "execution_count": 16,
   "metadata": {},
   "outputs": [
    {
     "data": {
      "text/plain": [
       "0.094543650383616937"
      ]
     },
     "execution_count": 16,
     "metadata": {},
     "output_type": "execute_result"
    }
   ],
   "source": [
    "np.std(sample_means)"
   ]
  },
  {
   "cell_type": "markdown",
   "metadata": {},
   "source": [
    "Our estimate from the SEM calculation above is:"
   ]
  },
  {
   "cell_type": "code",
   "execution_count": 17,
   "metadata": {},
   "outputs": [
    {
     "data": {
      "text/plain": [
       "0.086721903152371174"
      ]
     },
     "execution_count": 17,
     "metadata": {},
     "output_type": "execute_result"
    }
   ],
   "source": [
    "SEM = np.std(sample) / np.sqrt(500)\n",
    "SEM"
   ]
  },
  {
   "cell_type": "markdown",
   "metadata": {},
   "source": [
    "So, the SEM estimate is pretty close to the standard deviation we see when\n",
    "taking lots of samples."
   ]
  }
 ],
 "metadata": {
  "jupytext_formats": "Rmd:rmarkdown,ipynb",
  "kernelspec": {
   "display_name": "Python 3",
   "language": "python",
   "name": "python3"
  },
  "language_info": {
   "codemirror_mode": {
    "name": "ipython",
    "version": 3
   },
   "file_extension": ".py",
   "mimetype": "text/x-python",
   "name": "python",
   "nbconvert_exporter": "python",
   "pygments_lexer": "ipython3",
   "version": "3.6.5"
  }
 },
 "nbformat": 4,
 "nbformat_minor": 2
}
