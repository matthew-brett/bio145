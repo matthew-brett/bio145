{
 "cells": [
  {
   "cell_type": "markdown",
   "metadata": {},
   "source": [
    "# On correlation\n",
    "\n",
    "These are some notes on simple regression and correlation."
   ]
  },
  {
   "cell_type": "markdown",
   "metadata": {},
   "source": [
    "## About this page\n",
    "\n",
    "This is a Jupyter Notebook.  It can be run as an interactive demo, or you can\n",
    "read it as a web page.\n",
    "\n",
    "You don't need to understand the code on this page, the text will tell you\n",
    "what the code is doing.\n",
    "\n",
    "To run this demo interactively on the web, click the button below:\n",
    "\n",
    "[![Binder](https://mybinder.org/badge.svg)](https://mybinder.org/v2/gh/matthew-brett/bio145/master?filepath=on_correlation.ipynb)"
   ]
  },
  {
   "cell_type": "markdown",
   "metadata": {},
   "source": [
    "## The example problem\n",
    "\n",
    "Let’s imagine that we have measured scores for a “psychopathy” personality\n",
    "trait in 12 students. We also have some other information about these\n",
    "students. For example, we measured how much sweat each student had on their\n",
    "palms, and we call this a \"clammy\" score. We are going to use regression and\n",
    "correlation to work out whether the “clammy” score predicts the “psychopathy”\n",
    "score."
   ]
  },
  {
   "cell_type": "markdown",
   "metadata": {},
   "source": [
    "## Some setup\n",
    "\n",
    "We first need to get our environment set up to run the code and plots we\n",
    "need."
   ]
  },
  {
   "cell_type": "code",
   "execution_count": 1,
   "metadata": {},
   "outputs": [],
   "source": [
    "# Execute this cell by pressing Shift and Enter at the same time.\n",
    "# Libraries for arrays and plotting\n",
    "import numpy as np\n",
    "import matplotlib.pyplot as plt\n",
    "%matplotlib inline\n",
    "# Make plots look a little bit more fancy\n",
    "plt.style.use('fivethirtyeight')\n",
    "# Import library for statistical routines\n",
    "import scipy.stats as sps\n",
    "# Print array numbers to 4 digits of precisiono\n",
    "np.set_printoptions(precision=4, suppress=True)"
   ]
  },
  {
   "cell_type": "markdown",
   "metadata": {},
   "source": [
    "## Starting with a line\n",
    "\n",
    "Here are our scores of “psychopathy” from the 12 students:"
   ]
  },
  {
   "cell_type": "code",
   "execution_count": 2,
   "metadata": {},
   "outputs": [],
   "source": [
    "psychopathy = np.array([11.416,   4.514,  12.204,  14.835,\n",
    "                         8.416,   6.563,  17.343, 13.02,\n",
    "                        15.19,  11.902,  22.721,  22.324])"
   ]
  },
  {
   "cell_type": "markdown",
   "metadata": {},
   "source": [
    "These are the skin-conductance scores to get a measure of clamminess for the\n",
    "handshakes of each student:"
   ]
  },
  {
   "cell_type": "code",
   "execution_count": 3,
   "metadata": {},
   "outputs": [],
   "source": [
    "clammy = np.array([0.389,  0.2  ,  0.241,  0.463,\n",
    "                   4.585,  1.097,  1.642,  4.972,\n",
    "                   7.957,  5.585,  5.527,  6.964])"
   ]
  },
  {
   "cell_type": "markdown",
   "metadata": {},
   "source": [
    "We believe that there is some relationship between `clammy` and `psychopathy`.\n",
    "Plotting them together we get:"
   ]
  },
  {
   "cell_type": "code",
   "execution_count": 4,
   "metadata": {},
   "outputs": [
    {
     "data": {
      "text/plain": [
       "Text(0,0.5,'Psychopathy score')"
      ]
     },
     "execution_count": 4,
     "metadata": {},
     "output_type": "execute_result"
    },
    {
     "data": {
      "image/png": "[encoded data removed]",
      "text/plain": [
       "<Figure size 432x288 with 1 Axes>"
      ]
     },
     "metadata": {},
     "output_type": "display_data"
    }
   ],
   "source": [
    "plt.plot(clammy, psychopathy, '+')\n",
    "plt.xlabel('Clamminess of handshake')\n",
    "plt.ylabel('Psychopathy score')"
   ]
  },
  {
   "cell_type": "markdown",
   "metadata": {},
   "source": [
    "It looks like there may be some sort of straight line relationship. We could\n",
    "try to find a good line to fit the data.  Here I will do some magic to work\n",
    "out a good line."
   ]
  },
  {
   "cell_type": "code",
   "execution_count": 5,
   "metadata": {},
   "outputs": [],
   "source": [
    "slope, intercept, r, p, se = sps.linregress(clammy, psychopathy)"
   ]
  },
  {
   "cell_type": "markdown",
   "metadata": {},
   "source": [
    "Here is the slope of the line:"
   ]
  },
  {
   "cell_type": "code",
   "execution_count": 6,
   "metadata": {},
   "outputs": [
    {
     "data": {
      "text/plain": [
       "0.99925722621388224"
      ]
     },
     "execution_count": 6,
     "metadata": {},
     "output_type": "execute_result"
    }
   ],
   "source": [
    "slope"
   ]
  },
  {
   "cell_type": "markdown",
   "metadata": {},
   "source": [
    "This is the intercept of the line:"
   ]
  },
  {
   "cell_type": "code",
   "execution_count": 7,
   "metadata": {},
   "outputs": [
    {
     "data": {
      "text/plain": [
       "10.071285848579464"
      ]
     },
     "execution_count": 7,
     "metadata": {},
     "output_type": "execute_result"
    }
   ],
   "source": [
    "intercept"
   ]
  },
  {
   "cell_type": "markdown",
   "metadata": {},
   "source": [
    "We also got the correlation *r* value from this calculation.  Here it is, for future reference.  We will come back to this later:"
   ]
  },
  {
   "cell_type": "code",
   "execution_count": 8,
   "metadata": {},
   "outputs": [
    {
     "data": {
      "text/plain": [
       "0.51787773129140124"
      ]
     },
     "execution_count": 8,
     "metadata": {},
     "output_type": "execute_result"
    }
   ],
   "source": [
    "# Correlation \"r\" value\n",
    "r"
   ]
  },
  {
   "cell_type": "markdown",
   "metadata": {},
   "source": [
    "Here is the line drawn on the plot of the data:"
   ]
  },
  {
   "cell_type": "code",
   "execution_count": 9,
   "metadata": {},
   "outputs": [
    {
     "data": {
      "image/png": "[encoded data removed]",
      "text/plain": [
       "<Figure size 432x288 with 1 Axes>"
      ]
     },
     "metadata": {},
     "output_type": "display_data"
    }
   ],
   "source": [
    "# Plot data with the prediction\n",
    "plt.plot(clammy, psychopathy, 'k+')\n",
    "mx = max(clammy)\n",
    "x_vals = [0, mx]\n",
    "y_vals = [intercept, intercept + slope * mx]\n",
    "plt.plot(x_vals, y_vals, 'b')\n",
    "plt.xlabel('Clamminess of handshake')\n",
    "plt.ylabel('Psychopathy score')\n",
    "plt.title('Clammy vs psychopathy with nice line');"
   ]
  },
  {
   "cell_type": "markdown",
   "metadata": {},
   "source": [
    "## How do we chose a good line?"
   ]
  },
  {
   "cell_type": "markdown",
   "metadata": {},
   "source": [
    "The line gives a *prediction* of what `psychopathy` should be, for any value\n",
    "of `clammy`.  If we have some value `x` for `clammy`, then we can predict the\n",
    "value `y` of `psychopathy`, with `y = intercept + slope * x`.\n",
    "\n",
    "For example, here are the first values for `clammy` and `psychopathy`:"
   ]
  },
  {
   "cell_type": "code",
   "execution_count": 10,
   "metadata": {},
   "outputs": [
    {
     "data": {
      "text/plain": [
       "(0.38900000000000001, 11.416)"
      ]
     },
     "execution_count": 10,
     "metadata": {},
     "output_type": "execute_result"
    }
   ],
   "source": [
    "clammy[0], psychopathy[0]"
   ]
  },
  {
   "cell_type": "markdown",
   "metadata": {},
   "source": [
    "The second value is the *actual* value of `psychopathy`.  The *predicted*\n",
    "value of `psychopathy`, for this value of `clammy` is:"
   ]
  },
  {
   "cell_type": "code",
   "execution_count": 11,
   "metadata": {},
   "outputs": [
    {
     "data": {
      "text/plain": [
       "10.460285848579463"
      ]
     },
     "execution_count": 11,
     "metadata": {},
     "output_type": "execute_result"
    }
   ],
   "source": [
    "predicted = intercept + clammy[0]\n",
    "predicted"
   ]
  },
  {
   "cell_type": "markdown",
   "metadata": {},
   "source": [
    "The *error* for our line, is the difference between the actual and predicted\n",
    "value."
   ]
  },
  {
   "cell_type": "code",
   "execution_count": 12,
   "metadata": {},
   "outputs": [
    {
     "data": {
      "text/plain": [
       "0.95571415142053695"
      ]
     },
     "execution_count": 12,
     "metadata": {},
     "output_type": "execute_result"
    }
   ],
   "source": [
    "actual = psychopathy[0]\n",
    "error = actual - predicted\n",
    "error"
   ]
  },
  {
   "cell_type": "markdown",
   "metadata": {},
   "source": [
    "This is the error for the first value.  We can get the errors for all the\n",
    "values in the same way.\n",
    "\n",
    "Here are *all* the values of `clammy`, multiplied by the `slope`.  Because\n",
    "`clammy` is an array of 12 values, the code here multiplies *each* of the 12\n",
    "`clammy` values by `slope`:"
   ]
  },
  {
   "cell_type": "code",
   "execution_count": 13,
   "metadata": {},
   "outputs": [
    {
     "data": {
      "text/plain": [
       "array([ 0.3887,  0.1999,  0.2408,  0.4627,  4.5816,  1.0962,  1.6408,\n",
       "        4.9683,  7.9511,  5.5809,  5.5229,  6.9588])"
      ]
     },
     "execution_count": 13,
     "metadata": {},
     "output_type": "execute_result"
    }
   ],
   "source": [
    "clammy * slope"
   ]
  },
  {
   "cell_type": "markdown",
   "metadata": {},
   "source": [
    "We can get our errors for all 12 values, like this:"
   ]
  },
  {
   "cell_type": "code",
   "execution_count": 14,
   "metadata": {},
   "outputs": [
    {
     "data": {
      "text/plain": [
       "array([ 0.956 , -5.7571,  1.8919,  4.3011, -6.2369, -4.6045,  5.6309,\n",
       "       -2.0196, -2.8324, -3.7501,  7.1268,  5.2939])"
      ]
     },
     "execution_count": 14,
     "metadata": {},
     "output_type": "execute_result"
    }
   ],
   "source": [
    "all_predicted = intercept + clammy * slope\n",
    "all_errors = psychopathy - all_predicted\n",
    "all_errors"
   ]
  },
  {
   "cell_type": "markdown",
   "metadata": {},
   "source": [
    "Notice the first value for `all_errors` is the same as the value for `error`\n",
    "we saw above.\n",
    "\n",
    "The errors here are the distances between the prediction line and the points\n",
    "on the plot.  Here I show the errors as red lines. Don't worry about the code\n",
    "below, it's not important to the idea."
   ]
  },
  {
   "cell_type": "code",
   "execution_count": 15,
   "metadata": {},
   "outputs": [
    {
     "data": {
      "image/png": "[encoded data removed]",
      "text/plain": [
       "<Figure size 432x288 with 1 Axes>"
      ]
     },
     "metadata": {},
     "output_type": "display_data"
    }
   ],
   "source": [
    "# Plot data with the prediction and errors\n",
    "plt.plot(clammy, psychopathy, 'k+', ms=15)\n",
    "mx = max(clammy)\n",
    "x_vals = [0, mx]\n",
    "y_vals = [intercept, intercept + slope * mx]\n",
    "plt.plot(x_vals, y_vals, 'b')\n",
    "# Draw the error lines\n",
    "for i in range(len(clammy)):\n",
    "    x_vals = [clammy[i], clammy[i]]\n",
    "    y_vals = [all_predicted[i], psychopathy[i]]\n",
    "    plt.plot(x_vals, y_vals, 'r')\n",
    "plt.xlabel('Clamminess of handshake')\n",
    "plt.ylabel('Psychopathy score')\n",
    "plt.title('Clammy vs psychopathy, and errors');"
   ]
  },
  {
   "cell_type": "markdown",
   "metadata": {},
   "source": [
    "A good line will make the errors as small as possible.\n",
    "\n",
    "We need to generate a single number, from the errors, that gives a measure of\n",
    "the size of the errors.\n",
    "\n",
    "We cannot just add up the errors, because the negative and positive errors\n",
    "will cancel out.  Even if the errors are a mixture of large positive and large\n",
    "negative, the sum could be very small.\n",
    "\n",
    "The usual thing to do, is to square all the errors, to make sure they are all\n",
    "positive.  Then we add all the squared errors.  This give the *sum of squared\n",
    "error* or SSE."
   ]
  },
  {
   "cell_type": "code",
   "execution_count": 16,
   "metadata": {},
   "outputs": [
    {
     "data": {
      "text/plain": [
       "array([ 0.956 , -5.7571,  1.8919,  4.3011, -6.2369, -4.6045,  5.6309,\n",
       "       -2.0196, -2.8324, -3.7501,  7.1268,  5.2939])"
      ]
     },
     "execution_count": 16,
     "metadata": {},
     "output_type": "execute_result"
    }
   ],
   "source": [
    "all_errors"
   ]
  },
  {
   "cell_type": "code",
   "execution_count": 17,
   "metadata": {},
   "outputs": [
    {
     "data": {
      "text/plain": [
       "array([  0.9139,  33.1446,   3.5793,  18.4991,  38.8987,  21.2012,\n",
       "        31.7074,   4.0788,   8.0224,  14.0635,  50.7916,  28.0252])"
      ]
     },
     "execution_count": 17,
     "metadata": {},
     "output_type": "execute_result"
    }
   ],
   "source": [
    "# Square all the errors\n",
    "squared_errors = all_errors ** 2\n",
    "squared_errors"
   ]
  },
  {
   "cell_type": "code",
   "execution_count": 18,
   "metadata": {},
   "outputs": [
    {
     "data": {
      "text/plain": [
       "252.92560644993824"
      ]
     },
     "execution_count": 18,
     "metadata": {},
     "output_type": "execute_result"
    }
   ],
   "source": [
    "SSE = sum(squared_errors)\n",
    "SSE"
   ]
  },
  {
   "cell_type": "markdown",
   "metadata": {},
   "source": [
    "The line is a good one when SSE is small.  In fact, the usual \"best fit\" line\n",
    "chosen by packages such as Excel, is the line that gives the lowest SSE value,\n",
    "of all possible lines.\n",
    "\n",
    "It is the line that minimizes the squared error, or *least squares* line.\n",
    "\n",
    "This is the line that I found by sort-of magic, above.  If you like, try other\n",
    "slopes and intercepts.  You will find that they always have a higher SSE value\n",
    "than the slope and intercept I have used here.\n",
    "\n",
    "## Regression and correlation\n",
    "\n",
    "Above, you have seen regression, using the *least squares* line.\n",
    "\n",
    "Correlation is a version of the same thing, but where we have *standardized*\n",
    "the data.\n",
    "\n",
    "We standardize data by subtracting the mean, and dividing by the standard\n",
    "deviation.\n",
    "\n",
    "We do this, to put the x and y values onto the same scale.\n",
    "\n",
    "For example, here are the `clammy` values, that you have already seen,\n",
    "plotted on their own, to give you an idea of their position and spread.\n"
   ]
  },
  {
   "cell_type": "code",
   "execution_count": 19,
   "metadata": {},
   "outputs": [
    {
     "data": {
      "image/png": "[encoded data removed]",
      "text/plain": [
       "<Figure size 432x288 with 1 Axes>"
      ]
     },
     "metadata": {},
     "output_type": "display_data"
    }
   ],
   "source": [
    "n = len(clammy)\n",
    "plt.plot(np.ones(n), clammy, '+')\n",
    "plt.title(\"Clammy values\");"
   ]
  },
  {
   "cell_type": "markdown",
   "metadata": {},
   "source": [
    "In correlation, we are interested to know whether the *variation* in the (e.g)\n",
    "`clammy` values, predicts the variation in the (e.g)  `psychopathy` values.\n",
    "Variation, is variation around the mean.  To show variation, we subtract the\n",
    "mean.  We refer to the values, with the mean subtracted, as *mean centered*."
   ]
  },
  {
   "cell_type": "code",
   "execution_count": 20,
   "metadata": {},
   "outputs": [
    {
     "data": {
      "image/png": "[encoded data removed]",
      "text/plain": [
       "<Figure size 432x288 with 1 Axes>"
      ]
     },
     "metadata": {},
     "output_type": "display_data"
    }
   ],
   "source": [
    "centered_x = clammy - clammy.mean()\n",
    "plt.plot(np.ones(n), centered_x, '+');\n",
    "plt.title('Mean-centered clammy scores');"
   ]
  },
  {
   "cell_type": "markdown",
   "metadata": {},
   "source": [
    "Finally, the values for the spread either side of zero depends on the units of\n",
    "the measurement.   We measure the spread, with standard deviation:"
   ]
  },
  {
   "cell_type": "code",
   "execution_count": 21,
   "metadata": {},
   "outputs": [
    {
     "data": {
      "text/plain": [
       "2.78136974149229"
      ]
     },
     "execution_count": 21,
     "metadata": {},
     "output_type": "execute_result"
    }
   ],
   "source": [
    "std_x = np.std(centered_x)\n",
    "std_x"
   ]
  },
  {
   "cell_type": "markdown",
   "metadata": {},
   "source": [
    "We would like to re-express our data to have a standard spread, that is\n",
    "comparable for the `x` / `clammy` values and the `y` / `psychopathy` values.\n",
    "For example, we might like to ensure the data have a standard deviation of 1.\n",
    "To do this, we divide the centered values by the standard deviation."
   ]
  },
  {
   "cell_type": "code",
   "execution_count": 22,
   "metadata": {},
   "outputs": [
    {
     "data": {
      "image/png": "[encoded data removed]",
      "text/plain": [
       "<Figure size 432x288 with 1 Axes>"
      ]
     },
     "metadata": {},
     "output_type": "display_data"
    }
   ],
   "source": [
    "standard_x = centered_x / std_x\n",
    "plt.plot(np.ones(n), standard_x, '+')\n",
    "plt.title('Standardized clammy scores');"
   ]
  },
  {
   "cell_type": "markdown",
   "metadata": {},
   "source": [
    "Notice the mean of these values is now 0, and the standard deviation is very\n",
    "close to 1.  Value that end like `e-17` are very very small; the `17` means\n",
    "that the value is 0.0..... something, where there are 16 zeros after the\n",
    "decimal point."
   ]
  },
  {
   "cell_type": "code",
   "execution_count": 23,
   "metadata": {},
   "outputs": [
    {
     "data": {
      "text/plain": [
       "(7.4014868308343765e-17, 1.0)"
      ]
     },
     "execution_count": 23,
     "metadata": {},
     "output_type": "execute_result"
    }
   ],
   "source": [
    "np.mean(standard_x), np.std(standard_x)"
   ]
  },
  {
   "cell_type": "markdown",
   "metadata": {},
   "source": [
    "Our `clammy` values are now *standardized*.\n",
    "\n",
    "We do the same for our for the `y` / `psychopathy` values:"
   ]
  },
  {
   "cell_type": "code",
   "execution_count": 24,
   "metadata": {},
   "outputs": [
    {
     "data": {
      "text/plain": [
       "(5.5511151231257827e-17, 0.99999999999999989)"
      ]
     },
     "execution_count": 24,
     "metadata": {},
     "output_type": "execute_result"
    }
   ],
   "source": [
    "centered_y = psychopathy - psychopathy.mean()\n",
    "standard_y = centered_y / np.std(centered_y)\n",
    "np.mean(standard_y), np.std(standard_y)"
   ]
  },
  {
   "cell_type": "markdown",
   "metadata": {},
   "source": [
    "The correlation value *r* is just the slope of the regression line relating\n",
    "our standardized `x` / `clammy` and standardized `y` / `psychopathy`:"
   ]
  },
  {
   "cell_type": "code",
   "execution_count": 25,
   "metadata": {},
   "outputs": [
    {
     "data": {
      "text/plain": [
       "(0.51787773129140124, 1.7180499149900925e-17)"
      ]
     },
     "execution_count": 25,
     "metadata": {},
     "output_type": "execute_result"
    }
   ],
   "source": [
    "std_slope, std_intercept, r, p, se = sps.linregress(standard_x, standard_y)\n",
    "std_slope, std_intercept"
   ]
  },
  {
   "cell_type": "code",
   "execution_count": null,
   "metadata": {},
   "outputs": [],
   "source": [
    "# Plot standard data with the prediction\n",
    "plt.plot(standard_x, standard_y, '+')\n",
    "mx = max(standard_x)\n",
    "mn = min(standard_x)\n",
    "x_vals = [mn, mx]\n",
    "y_vals = [std_intercept + std_slope * mn, std_intercept + std_slope * mx]\n",
    "plt.plot(x_vals, y_vals);"
   ]
  },
  {
   "cell_type": "markdown",
   "metadata": {},
   "source": [
    "Notice that the plot has the point (0, 0) at its center, and that the line\n",
    "goes through the (0, 0) point.  The slope of the line, is the correlation\n",
    "value *r*.\n",
    "\n",
    "It turns out that, if we do this standardization procedure, the slope of the\n",
    "line can only vary between 1 (where the standardized `x` values are the same as\n",
    "the standardized `y` values) and -1 (where the standardized `x` values are the\n",
    "negative of the standardized `y` values."
   ]
  }
 ],
 "metadata": {
  "jupytext_formats": "Rmd:rmarkdown,ipynb",
  "kernelspec": {
   "display_name": "Python 3",
   "language": "python",
   "name": "python3"
  },
  "language_info": {
   "codemirror_mode": {
    "name": "ipython",
    "version": 3
   },
   "file_extension": ".py",
   "mimetype": "text/x-python",
   "name": "python",
   "nbconvert_exporter": "python",
   "pygments_lexer": "ipython3",
   "version": "3.6.5"
  }
 },
 "nbformat": 4,
 "nbformat_minor": 2
}
