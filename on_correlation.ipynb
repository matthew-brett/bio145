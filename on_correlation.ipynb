{
 "cells": [
  {
   "cell_type": "markdown",
   "metadata": {},
   "source": [
    "# On correlation\n",
    "\n",
    "These are some notes on simple regression and correlation."
   ]
  },
  {
   "cell_type": "markdown",
   "metadata": {},
   "source": [
    "## About this page\n",
    "\n",
    "This is a Jupyter Notebook.  It can be run as an interactive demo, or you can\n",
    "read it as a web page.\n",
    "\n",
    "You don't need to understand the code on this page, the text will tell you\n",
    "what the code is doing.\n",
    "\n",
    "You can also [run this demo\n",
    "interactively](https://mybinder.org/v2/gh/matthew-brett/bio145/master?filepath=on_correlation.ipynb).\n",
    "\n",
    "## The example problem\n",
    "\n",
    "Let’s imagine that we have measured scores for a “psychopathy” personality\n",
    "trait in 12 students. We also have some other information about these\n",
    "students. For example, we measured how much sweat each student had on their\n",
    "palms, and we call this a \"clammy\" score. We are going to use regression and\n",
    "correlation to work out whether the “clammy” score predicts the “psychopathy”\n",
    "score."
   ]
  },
  {
   "cell_type": "markdown",
   "metadata": {},
   "source": [
    "## Some setup\n",
    "\n",
    "We first need to get our environment set up to run the code and plots we\n",
    "need."
   ]
  },
  {
   "cell_type": "code",
   "execution_count": 1,
   "metadata": {},
   "outputs": [],
   "source": [
    "# Code to get set up.  If you are running interactively, you can execute\n",
    "# this cell by pressing Shift and Enter at the same time.\n",
    "# Libraries for arrays and plotting\n",
    "import numpy as np\n",
    "import matplotlib.pyplot as plt\n",
    "%matplotlib inline\n",
    "# Make plots look a little bit more fancy\n",
    "plt.style.use('fivethirtyeight')\n",
    "# Import library for statistical routines\n",
    "import scipy.stats as sps\n",
    "# Print array numbers to 4 digits of precisiono\n",
    "np.set_printoptions(precision=4, suppress=True)"
   ]
  },
  {
   "cell_type": "markdown",
   "metadata": {},
   "source": [
    "## Starting with a line\n",
    "\n",
    "Here are our scores of “psychopathy” from the 12 students:"
   ]
  },
  {
   "cell_type": "code",
   "execution_count": 2,
   "metadata": {},
   "outputs": [],
   "source": [
    "psychopathy = np.array([11.416,   4.514,  12.204,  14.835,\n",
    "                         8.416,   6.563,  17.343, 13.02,\n",
    "                        15.19,  11.902,  22.721,  22.324])"
   ]
  },
  {
   "cell_type": "markdown",
   "metadata": {},
   "source": [
    "These are the skin-conductance scores to get a measure of clamminess for the\n",
    "handshakes of each student:"
   ]
  },
  {
   "cell_type": "code",
   "execution_count": 3,
   "metadata": {},
   "outputs": [],
   "source": [
    "clammy = np.array([0.389,  0.2  ,  0.241,  0.463,\n",
    "                   4.585,  1.097,  1.642,  4.972,\n",
    "                   7.957,  5.585,  5.527,  6.964])"
   ]
  },
  {
   "cell_type": "markdown",
   "metadata": {},
   "source": [
    "We believe that there is some relationship between `clammy` and `psychopathy`.\n",
    "Plotting them together we get:"
   ]
  },
  {
   "cell_type": "code",
   "execution_count": 4,
   "metadata": {},
   "outputs": [
    {
     "data": {
      "text/plain": [
       "Text(0,0.5,'Psychopathy score')"
      ]
     },
     "execution_count": 4,
     "metadata": {},
     "output_type": "execute_result"
    },
    {
     "data": {
      "image/png": "[encoded data removed]",
      "text/plain": [
       "<Figure size 432x288 with 1 Axes>"
      ]
     },
     "metadata": {},
     "output_type": "display_data"
    }
   ],
   "source": [
    "plt.plot(clammy, psychopathy, '+')\n",
    "plt.xlabel('Clamminess of handshake')\n",
    "plt.ylabel('Psychopathy score')"
   ]
  },
  {
   "cell_type": "markdown",
   "metadata": {},
   "source": [
    "It looks like there may be some sort of straight line relationship. We could\n",
    "try to find a good line to fit the data.  Here I will do some magic to work\n",
    "out a good line."
   ]
  },
  {
   "cell_type": "code",
   "execution_count": 5,
   "metadata": {},
   "outputs": [
    {
     "name": "stdout",
     "output_type": "stream",
     "text": [
      "Slope: 0.9993\n",
      "Intercept: 10.0713\n"
     ]
    }
   ],
   "source": [
    "slope, intercept, r, p, se = sps.linregress(clammy, psychopathy)\n",
    "print(f'Slope: {slope:.4f}')\n",
    "print(f'Intercept: {intercept:.4f}')"
   ]
  },
  {
   "cell_type": "markdown",
   "metadata": {},
   "source": [
    "We also got the correlation *r* value from this calculation.  Here it is, for future reference.  We will come back to this later:"
   ]
  },
  {
   "cell_type": "code",
   "execution_count": 6,
   "metadata": {},
   "outputs": [
    {
     "name": "stdout",
     "output_type": "stream",
     "text": [
      "Correlation r: 0.5179\n"
     ]
    }
   ],
   "source": [
    "# Correlation \"r\" value\n",
    "print(f'Correlation r: {r:.4f}')"
   ]
  },
  {
   "cell_type": "markdown",
   "metadata": {},
   "source": [
    "Here is the line drawn on the plot of the data:"
   ]
  },
  {
   "cell_type": "code",
   "execution_count": 7,
   "metadata": {},
   "outputs": [
    {
     "data": {
      "image/png": "[encoded data removed]",
      "text/plain": [
       "<Figure size 432x288 with 1 Axes>"
      ]
     },
     "metadata": {},
     "output_type": "display_data"
    }
   ],
   "source": [
    "# Plot data with the prediction\n",
    "plt.plot(clammy, psychopathy, 'k+')\n",
    "mx = max(clammy)\n",
    "x_vals = [0, mx]\n",
    "y_vals = [intercept, intercept + slope * mx]\n",
    "plt.plot(x_vals, y_vals, 'b')\n",
    "plt.xlabel('Clamminess of handshake')\n",
    "plt.ylabel('Psychopathy score')\n",
    "plt.title('Clammy vs psychopathy with nice line');"
   ]
  },
  {
   "cell_type": "markdown",
   "metadata": {},
   "source": [
    "## How do we chose a good line?"
   ]
  },
  {
   "cell_type": "markdown",
   "metadata": {},
   "source": [
    "The line gives a *prediction* of what `psychopathy` should be, for any value\n",
    "of `clammy`.  If we have some value `x` for `clammy`, then we can predict the\n",
    "value `y` of `psychopathy`, with `y = intercept + slope * x`.\n",
    "\n",
    "For example, here are the first values for `clammy` and `psychopathy`:"
   ]
  },
  {
   "cell_type": "code",
   "execution_count": 8,
   "metadata": {},
   "outputs": [
    {
     "name": "stdout",
     "output_type": "stream",
     "text": [
      "First clammy value 0.389\n",
      "First psychopathy value 11.416\n"
     ]
    }
   ],
   "source": [
    "print(f'First clammy value {clammy[0]}')\n",
    "print(f'First psychopathy value {psychopathy[0]}')"
   ]
  },
  {
   "cell_type": "markdown",
   "metadata": {},
   "source": [
    "The second value is the *actual* value of `psychopathy`.  The *predicted*\n",
    "value of `psychopathy`, for this value of `clammy` is:"
   ]
  },
  {
   "cell_type": "code",
   "execution_count": 9,
   "metadata": {},
   "outputs": [
    {
     "data": {
      "text/plain": [
       "10.460285848579463"
      ]
     },
     "execution_count": 9,
     "metadata": {},
     "output_type": "execute_result"
    }
   ],
   "source": [
    "predicted = intercept + clammy[0]\n",
    "predicted"
   ]
  },
  {
   "cell_type": "markdown",
   "metadata": {},
   "source": [
    "The *error* for our line, is the difference between the actual and predicted\n",
    "value."
   ]
  },
  {
   "cell_type": "code",
   "execution_count": 10,
   "metadata": {},
   "outputs": [
    {
     "data": {
      "text/plain": [
       "0.95571415142053695"
      ]
     },
     "execution_count": 10,
     "metadata": {},
     "output_type": "execute_result"
    }
   ],
   "source": [
    "actual = psychopathy[0]\n",
    "error = actual - predicted\n",
    "error"
   ]
  },
  {
   "cell_type": "markdown",
   "metadata": {},
   "source": [
    "This is the error for the first value.  We can get the errors for all the\n",
    "values in the same way."
   ]
  },
  {
   "cell_type": "markdown",
   "metadata": {},
   "source": [
    "This is the calculation of error for all 12 values.  As usual, you don't need to understand the code in detail:"
   ]
  },
  {
   "cell_type": "code",
   "execution_count": 11,
   "metadata": {},
   "outputs": [
    {
     "data": {
      "text/plain": [
       "array([ 0.956 , -5.7571,  1.8919,  4.3011, -6.2369, -4.6045,  5.6309,\n",
       "       -2.0196, -2.8324, -3.7501,  7.1268,  5.2939])"
      ]
     },
     "execution_count": 11,
     "metadata": {},
     "output_type": "execute_result"
    }
   ],
   "source": [
    "all_predicted = intercept + clammy * slope\n",
    "all_errors = psychopathy - all_predicted\n",
    "all_errors"
   ]
  },
  {
   "cell_type": "markdown",
   "metadata": {},
   "source": [
    "Notice the first value for `all_errors` is the same as the value for `error`\n",
    "we saw above.\n",
    "\n",
    "The errors here are the distances between the prediction line and the points\n",
    "on the plot.  Here I show the errors as red lines. Don't worry about the code\n",
    "below, it's not important to the idea."
   ]
  },
  {
   "cell_type": "code",
   "execution_count": 12,
   "metadata": {},
   "outputs": [
    {
     "data": {
      "image/png": "[encoded data removed]",
      "text/plain": [
       "<Figure size 432x288 with 1 Axes>"
      ]
     },
     "metadata": {},
     "output_type": "display_data"
    }
   ],
   "source": [
    "# Plot data with the prediction and errors\n",
    "plt.plot(clammy, psychopathy, 'k+', ms=15)\n",
    "mx = max(clammy)\n",
    "x_vals = [0, mx]\n",
    "y_vals = [intercept, intercept + slope * mx]\n",
    "plt.plot(x_vals, y_vals, 'b')\n",
    "# Draw the error lines\n",
    "for i in range(len(clammy)):\n",
    "    x_vals = [clammy[i], clammy[i]]\n",
    "    y_vals = [all_predicted[i], psychopathy[i]]\n",
    "    plt.plot(x_vals, y_vals, 'r')\n",
    "plt.xlabel('Clamminess of handshake')\n",
    "plt.ylabel('Psychopathy score')\n",
    "plt.title('Clammy vs psychopathy, and errors');"
   ]
  },
  {
   "cell_type": "markdown",
   "metadata": {},
   "source": [
    "A good line will make the errors as small as possible.  Therefore, a good line will make the lengths of the red lines as short as possible.\n",
    "\n",
    "We need to generate a single number, from the errors, that gives an overall measure of\n",
    "the size of the errors.\n",
    "\n",
    "We cannot just add up the errors, because the negative and positive errors\n",
    "will cancel out.  Even if the errors are a mixture of large positive and large\n",
    "negative, the sum could be very small.\n",
    "\n",
    "The usual thing to do, is to square all the errors, to make sure they are all\n",
    "positive.  Then we add all the squared errors.  This gives the *sum of squared\n",
    "error* or SSE."
   ]
  },
  {
   "cell_type": "code",
   "execution_count": 13,
   "metadata": {},
   "outputs": [
    {
     "data": {
      "text/plain": [
       "array([ 0.956 , -5.7571,  1.8919,  4.3011, -6.2369, -4.6045,  5.6309,\n",
       "       -2.0196, -2.8324, -3.7501,  7.1268,  5.2939])"
      ]
     },
     "execution_count": 13,
     "metadata": {},
     "output_type": "execute_result"
    }
   ],
   "source": [
    "# A reminder of the errors we calculated above\n",
    "all_errors"
   ]
  },
  {
   "cell_type": "code",
   "execution_count": 14,
   "metadata": {},
   "outputs": [
    {
     "data": {
      "text/plain": [
       "array([  0.9139,  33.1446,   3.5793,  18.4991,  38.8987,  21.2012,\n",
       "        31.7074,   4.0788,   8.0224,  14.0635,  50.7916,  28.0252])"
      ]
     },
     "execution_count": 14,
     "metadata": {},
     "output_type": "execute_result"
    }
   ],
   "source": [
    "# Square all the errors\n",
    "squared_errors = all_errors ** 2\n",
    "squared_errors"
   ]
  },
  {
   "cell_type": "code",
   "execution_count": 15,
   "metadata": {},
   "outputs": [
    {
     "data": {
      "text/plain": [
       "252.92560644993824"
      ]
     },
     "execution_count": 15,
     "metadata": {},
     "output_type": "execute_result"
    }
   ],
   "source": [
    "# Calculate the sum of the squared errors\n",
    "SSE = sum(squared_errors)\n",
    "SSE"
   ]
  },
  {
   "cell_type": "markdown",
   "metadata": {},
   "source": [
    "The line is a good one when SSE is small.  In fact, the usual \"best fit\" line\n",
    "chosen by packages such as Excel, is the line that gives the lowest SSE value,\n",
    "of all possible lines.\n",
    "\n",
    "It is the line that minimizes the squared error, often called the *least squares* line.\n",
    "\n",
    "This is the line that I found by sort-of magic, above.  If you like, try other\n",
    "slopes and intercepts.  You will find that they always have a higher SSE value\n",
    "than the slope and intercept I have used here."
   ]
  },
  {
   "cell_type": "markdown",
   "metadata": {},
   "source": [
    "## Regression and correlation\n",
    "\n",
    "Above, you have seen regression, using the *least squares* line.\n",
    "\n",
    "Correlation is a version of the same thing, but where we have *standardized*\n",
    "the data.\n",
    "\n",
    "We standardize data by subtracting the mean, and dividing by the standard\n",
    "deviation.\n",
    "\n",
    "We do this, to put the x and y values onto the same scale.\n",
    "\n",
    "For example, here is a histogram of the `clammy` values, to give you an idea\n",
    "of their position and spread."
   ]
  },
  {
   "cell_type": "code",
   "execution_count": 16,
   "metadata": {},
   "outputs": [
    {
     "data": {
      "image/png": "[encoded data removed]",
      "text/plain": [
       "<Figure size 432x288 with 1 Axes>"
      ]
     },
     "metadata": {},
     "output_type": "display_data"
    }
   ],
   "source": [
    "plt.hist(clammy)\n",
    "plt.title(\"Clammy scores\");"
   ]
  },
  {
   "cell_type": "markdown",
   "metadata": {},
   "source": [
    "In correlation, we are interested to know whether the *variation* in the (e.g)\n",
    "`clammy` values, predicts the variation in the (e.g)  `psychopathy` values.\n",
    "Variation, is variation around the mean.  To show variation, we subtract the\n",
    "mean.  We refer to the values, with the mean subtracted, as *mean centered*."
   ]
  },
  {
   "cell_type": "code",
   "execution_count": 17,
   "metadata": {},
   "outputs": [
    {
     "data": {
      "image/png": "[encoded data removed]",
      "text/plain": [
       "<Figure size 432x288 with 1 Axes>"
      ]
     },
     "metadata": {},
     "output_type": "display_data"
    }
   ],
   "source": [
    "centered_x = clammy - clammy.mean()\n",
    "plt.hist(centered_x)\n",
    "plt.title('Mean-centered clammy scores');"
   ]
  },
  {
   "cell_type": "markdown",
   "metadata": {},
   "source": [
    "Finally, the values for the spread either side of zero depends on the units of\n",
    "the measurement.   We measure the spread, with standard deviation:"
   ]
  },
  {
   "cell_type": "code",
   "execution_count": 18,
   "metadata": {},
   "outputs": [
    {
     "data": {
      "text/plain": [
       "2.78136974149229"
      ]
     },
     "execution_count": 18,
     "metadata": {},
     "output_type": "execute_result"
    }
   ],
   "source": [
    "std_x = np.std(centered_x)\n",
    "std_x"
   ]
  },
  {
   "cell_type": "markdown",
   "metadata": {},
   "source": [
    "We would like to re-express our data to have a standard spread, that is\n",
    "comparable for the `x` / `clammy` values and the `y` / `psychopathy` values.\n",
    "For example, we might like to ensure the data have a standard deviation of 1.\n",
    "To do this, we divide the centered values by the standard deviation."
   ]
  },
  {
   "cell_type": "code",
   "execution_count": 19,
   "metadata": {},
   "outputs": [
    {
     "data": {
      "image/png": "[encoded data removed]",
      "text/plain": [
       "<Figure size 432x288 with 1 Axes>"
      ]
     },
     "metadata": {},
     "output_type": "display_data"
    }
   ],
   "source": [
    "standard_x = centered_x / std_x\n",
    "plt.hist(standard_x)\n",
    "plt.title('Standardized clammy scores');"
   ]
  },
  {
   "cell_type": "markdown",
   "metadata": {},
   "source": [
    "You will see below, that the mean of these values is now 0, and the standard deviation is 1."
   ]
  },
  {
   "cell_type": "code",
   "execution_count": 20,
   "metadata": {},
   "outputs": [
    {
     "name": "stdout",
     "output_type": "stream",
     "text": [
      "Mean of standard x: 0.0000\n",
      "Standard deviation: 1.0000\n"
     ]
    }
   ],
   "source": [
    "print(f'Mean of standard x: {np.mean(standard_x):.4f}')\n",
    "print(f'Standard deviation: {np.std(standard_x):.4f}')"
   ]
  },
  {
   "cell_type": "markdown",
   "metadata": {},
   "source": [
    "Our `clammy` values are now *standardized*.\n",
    "\n",
    "We do the same for our `y` / `psychopathy` values:"
   ]
  },
  {
   "cell_type": "code",
   "execution_count": 21,
   "metadata": {},
   "outputs": [
    {
     "name": "stdout",
     "output_type": "stream",
     "text": [
      "Mean of standard y: 0.0000\n",
      "Standard deviation: 1.0000\n"
     ]
    }
   ],
   "source": [
    "# Standarize the y / psychopathy values\n",
    "centered_y = psychopathy - psychopathy.mean()\n",
    "standard_y = centered_y / np.std(centered_y)\n",
    "print(f'Mean of standard y: {np.mean(standard_y):.4f}')\n",
    "print(f'Standard deviation: {np.std(standard_y):.4f}')"
   ]
  },
  {
   "cell_type": "markdown",
   "metadata": {},
   "source": [
    "The correlation value *r* is just the slope of the regression line relating\n",
    "our standardized `x` / `clammy` and standardized `y` / `psychopathy`:"
   ]
  },
  {
   "cell_type": "code",
   "execution_count": 22,
   "metadata": {},
   "outputs": [
    {
     "name": "stdout",
     "output_type": "stream",
     "text": [
      "Standardized slope (=correlation r): 0.5179\n",
      "Standardized intercept: 0.0000\n"
     ]
    }
   ],
   "source": [
    "std_slope, std_intercept, std_r, p, se = sps.linregress(standard_x, standard_y)\n",
    "print(f'Standardized slope (=correlation r): {std_slope:.4f}')\n",
    "print(f'Standardized intercept: {std_intercept:.4f}')"
   ]
  },
  {
   "cell_type": "markdown",
   "metadata": {},
   "source": [
    "It turns out that, when we standardize the x and y values, as we did here, the\n",
    "*intercept* for the least-squares line must be zero, for mathematical reasons\n",
    "that are not important for our current purpose.\n",
    "\n",
    "Notice that the slope above is the same as the `r` value for the original\n",
    "regression line:"
   ]
  },
  {
   "cell_type": "code",
   "execution_count": 23,
   "metadata": {},
   "outputs": [
    {
     "name": "stdout",
     "output_type": "stream",
     "text": [
      "Standardized slope: 0.5179\n",
      "Original r for regression: 0.5179\n"
     ]
    }
   ],
   "source": [
    "print(f'Standardized slope: {std_slope:.4f}')\n",
    "print(f'Original r for regression: {r:.4f}')"
   ]
  },
  {
   "cell_type": "markdown",
   "metadata": {},
   "source": [
    "Here is the plot of standardized `clammy` against standardized `psychopathy`,\n",
    "with the least-squares line:"
   ]
  },
  {
   "cell_type": "code",
   "execution_count": 24,
   "metadata": {},
   "outputs": [
    {
     "data": {
      "image/png": "[encoded data removed]",
      "text/plain": [
       "<Figure size 432x288 with 1 Axes>"
      ]
     },
     "metadata": {},
     "output_type": "display_data"
    }
   ],
   "source": [
    "# Plot standard data with the prediction\n",
    "plt.plot(standard_x, standard_y, '+')\n",
    "mx = max(standard_x)\n",
    "mn = min(standard_x)\n",
    "x_vals = [mn, mx]\n",
    "y_vals = [std_intercept + std_slope * mn, std_intercept + std_slope * mx]\n",
    "plt.plot(x_vals, y_vals, 'b')\n",
    "plt.title('Standardized clammy against standardized psychopathy');"
   ]
  },
  {
   "cell_type": "markdown",
   "metadata": {},
   "source": [
    "Notice that the plot has the point (0, 0) at its center, and that the line\n",
    "goes through the (0, 0) point.  The slope of the line, is the correlation\n",
    "value *r*.\n",
    "\n",
    "It turns out that, if we do this standardization procedure, the slope of the\n",
    "line can only vary between 1 (where the standardized `x` values are the same as\n",
    "the standardized `y` values) and -1 (where the standardized `x` values are the\n",
    "exact negative of the standardized `y` values)."
   ]
  }
 ],
 "metadata": {
  "jupytext_formats": "Rmd:rmarkdown,ipynb",
  "kernelspec": {
   "display_name": "Python 3",
   "language": "python",
   "name": "python3"
  },
  "language_info": {
   "codemirror_mode": {
    "name": "ipython",
    "version": 3
   },
   "file_extension": ".py",
   "mimetype": "text/x-python",
   "name": "python",
   "nbconvert_exporter": "python",
   "pygments_lexer": "ipython3",
   "version": "3.6.5"
  }
 },
 "nbformat": 4,
 "nbformat_minor": 2
}
